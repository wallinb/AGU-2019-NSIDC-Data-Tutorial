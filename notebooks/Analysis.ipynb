{
 "cells": [
  {
   "cell_type": "markdown",
   "metadata": {},
   "source": [
    "# Analysis operations\n",
    "\n",
    "* Filter ICESat-2 data by quality flag \n",
    "\n",
    "* Linear relationship: Apply empirical formulas using coefficients for water and ice\n",
    "\n",
    "* Extracting gridded data along ICESat-2 tracks using xarray\n",
    "\n",
    "* Comparing cross overs\n",
    "\n",
    "* Plot data with MODIS true color (use WMS endpoint?): Cartopy is quite good for this.  Basemap is an alternative. OpenAltimetry plotting (3d plotly)"
   ]
  },
  {
   "cell_type": "markdown",
   "metadata": {},
   "source": [
    "### Import Packages"
   ]
  },
  {
   "cell_type": "code",
   "execution_count": 1,
   "metadata": {},
   "outputs": [],
   "source": [
    "import geopandas as gpd\n",
    "import matplotlib.pyplot as plt\n",
    "import cartopy.crs as ccrs\n",
    "import fiona\n",
    "import h5py\n",
    "import re\n",
    "import import_ipynb\n",
    "from ipynb.fs.full.Functions import *\n",
    "# To read KML files with geopandas, we will need to enable KML support in fiona (disabled by default)\n",
    "fiona.drvsupport.supported_drivers['LIBKML'] = 'rw'\n",
    "from shapely.geometry import Polygon, mapping\n",
    "from shapely.geometry.polygon import orient\n",
    "from statistics import mean\n",
    "import xarray as xr\n",
    "%matplotlib inline\n"
   ]
  },
  {
   "cell_type": "code",
   "execution_count": 5,
   "metadata": {},
   "outputs": [],
   "source": [
    "# Andy's imports:\n",
    "\n",
    "import warnings\n",
    "warnings.filterwarnings('ignore')\n",
    "\n",
    "import matplotlib.pyplot as plt\n",
    "\n",
    "import xarray as xr\n",
    "import numpy as np\n",
    "import glob\n",
    "import sys\n",
    "import pyproj\n",
    "\n",
    "import scipy.interpolate as scinterp"
   ]
  },
  {
   "cell_type": "markdown",
   "metadata": {},
   "source": [
    "### Data filtering by quality flag\n"
   ]
  },
  {
   "cell_type": "markdown",
   "metadata": {},
   "source": [
    "For each beam group within each file, filter /sea_ice_segments/heights/height_segment_height based on:\n",
    "\n",
    "/sea_ice_segments/heights/height_segment_quality"
   ]
  },
  {
   "cell_type": "code",
   "execution_count": 6,
   "metadata": {},
   "outputs": [],
   "source": [
    "# # According to Alex Petty's ATL07 tutorial at the ICESat-2 hackweek, these are the primary variables of interest:\n",
    "\n",
    "# # Primary variables of interest\n",
    "\n",
    "# # Beam segment height\n",
    "# '/sea_ice_segments/heights/height_segment_height'\n",
    "\n",
    "# # Flag for potential leads, 0=sea ice, 1 = sea surface\n",
    "# '/sea_ice_segments/heights/height_segment_ssh_flag'\n",
    "    \n",
    "# #Quality metrics for each segment include confidence level in the surface height estimate, \n",
    "# # which is based on the number of photons, the background noise rate, and the error measure provided by the surface-finding algorithm.\n",
    "\n",
    "# # Height quality flag, 1 for good fit, 0 for bad\n",
    "# '/sea_ice_segments/heights/height_segment_quality'\n",
    "    \n",
    "# '/sea_ice_segments/heights/height_segment_rms' #RMS difference between modeled and observed photon height distribution\n",
    "# '/sea_ice_segments/heights/height_segment_length_seg' # Along track length of segment\n",
    "# '/sea_ice_segments/heights/height_segment_confidence' # Height segment confidence flag\n",
    "# '/sea_ice_segments/heights/height_segment_asr_calc'\n",
    "# '/sea_ice_segments/heights/height_segment_ssh_flag' #Flag for potential leads, 0=sea ice, 1 = sea surface\n",
    "# '/sea_ice_segments/heights/height_segment_type' # 0 = Cloud covered\n",
    "# '/sea_ice_segments/heights/height_segment_w_gaussian' # Width of Gaussian fit"
   ]
  },
  {
   "cell_type": "markdown",
   "metadata": {},
   "source": [
    "### Xarray to extract gridded data along ICESat-2 tracks\n"
   ]
  },
  {
   "cell_type": "markdown",
   "metadata": {},
   "source": [
    "Based on Andy's ICESat-2 hackweek tutorial:\n",
    "\n",
    "https://github.com/ICESAT-2HackWeek/xarray_open_tutorial/blob/master/xarray_examples.ipynb"
   ]
  },
  {
   "cell_type": "markdown",
   "metadata": {},
   "source": [
    "### Plot data with MODIS true color imagery "
   ]
  },
  {
   "cell_type": "code",
   "execution_count": 2,
   "metadata": {},
   "outputs": [],
   "source": [
    "# example url\n",
    "url = 'https://gibs.earthdata.nasa.gov/twms/epsg4326/best/twms.cgi?request=GetMap&layers=MODIS_Terra_CorrectedReflectance_TrueColor&srs=EPSG:4326&format=image/jpeg&styles=&time=2012-07-09&width=512&height=512&bbox=-18,27,-13.5,31.5'"
   ]
  },
  {
   "cell_type": "code",
   "execution_count": null,
   "metadata": {},
   "outputs": [],
   "source": []
  }
 ],
 "metadata": {
  "kernelspec": {
   "display_name": "Python 3",
   "language": "python",
   "name": "python3"
  },
  "language_info": {
   "codemirror_mode": {
    "name": "ipython",
    "version": 3
   },
   "file_extension": ".py",
   "mimetype": "text/x-python",
   "name": "python",
   "nbconvert_exporter": "python",
   "pygments_lexer": "ipython3",
   "version": "3.7.3"
  }
 },
 "nbformat": 4,
 "nbformat_minor": 4
}
