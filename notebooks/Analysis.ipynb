{
 "cells": [
  {
   "cell_type": "markdown",
   "metadata": {},
   "source": [
    "* Filter ICESat-2 data by quality flag \n",
    "\n",
    "* Linear relationship: Apply empirical formulas using coefficients for water and ice\n",
    "\n",
    "* Extracting gridded data along ICESat-2 tracks using xarray\n",
    "\n",
    "* Comparing cross overs\n",
    "\n",
    "* Plot data with MODIS true color (use WMS endpoint?): Cartopy is quite good for this.  Basemap is an alternative. OpenAltimetry plotting (3d plotly)"
   ]
  },
  {
   "cell_type": "code",
   "execution_count": null,
   "metadata": {},
   "outputs": [],
   "source": []
  }
 ],
 "metadata": {
  "kernelspec": {
   "display_name": "Python 3",
   "language": "python",
   "name": "python3"
  },
  "language_info": {
   "codemirror_mode": {
    "name": "ipython",
    "version": 3
   },
   "file_extension": ".py",
   "mimetype": "text/x-python",
   "name": "python",
   "nbconvert_exporter": "python",
   "pygments_lexer": "ipython3",
   "version": "3.7.3"
  }
 },
 "nbformat": 4,
 "nbformat_minor": 4
}
